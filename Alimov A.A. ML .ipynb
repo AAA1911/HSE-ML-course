{
 "cells": [
  {
   "cell_type": "markdown",
   "metadata": {},
   "source": [
    "# Homework on Statistical Learning Theory"
   ]
  },
  {
   "cell_type": "markdown",
   "metadata": {},
   "source": [
    "<b>Deadline:</b> 24.12.2018, 9 a.m. (there would be no soft deadline)\n",
    "\n",
    "<b>How to hang in?</b> You need to put your Jupyter Notebook to GitHub repo and send link in Telegram to <b>@CroCode</b>"
   ]
  },
  {
   "cell_type": "code",
   "execution_count": null,
   "metadata": {
    "collapsed": true
   },
   "outputs": [],
   "source": [
    "Alimov A.A."
   ]
  },
  {
   "cell_type": "markdown",
   "metadata": {},
   "source": [
    "### Block №1. Combinatorics and Probability Theory\n",
    "\n",
    "You can use LaTeX expressions in order to provide formulas: https://en.wikibooks.org/wiki/LaTeX"
   ]
  },
  {
   "cell_type": "markdown",
   "metadata": {},
   "source": [
    "1) In how many ways can the letters of the word PROBABILITY be rearranged such that all I’s and P’s appear in the middle?\n",
    "\n",
    "<b>Total:</b> 1 point"
   ]
  },
  {
   "cell_type": "code",
   "execution_count": 3,
   "metadata": {},
   "outputs": [
    {
     "data": {
      "text/plain": [
       "11"
      ]
     },
     "execution_count": 3,
     "metadata": {},
     "output_type": "execute_result"
    }
   ],
   "source": [
    "a = \"probability\"\n",
    "len(a)"
   ]
  },
  {
   "cell_type": "markdown",
   "metadata": {},
   "source": [
    "So there are 11 letters in word 'PROBABILITY'\n",
    "In case when we should place combination of $\\fbox{P,I,I}$ in the middle we have this:\n",
    "\n",
    "ROBA$\\fbox{P,I,I}$BLTY ==> so we can iterate 8 other letters as well as iterate $\\fbox{P,I,I}$ so the number of arranges will be the following:\n",
    "\n",
    "8! - Number of iterations in \"ROBA___BLTY\"\n",
    "\n",
    "3! - Number of iterations inside \"P,I,I\"\n",
    "\n",
    "Plus we should take into consideration that we have 2 similar letters in \"ROBA___BLTY\" and \"P,I,I\" so we should devide by 2! two times.\n",
    "\n",
    "And the final formula will be:\n",
    "\n",
    "$\\frac{8!*3!}{2!*2!} = \\frac{8*7*6*5*4*3*2*1*3*2*1}{2*1*2*1} = 8*7*6*5*4*3*1*3*1 = \n",
    "\\fbox{60480}$\n",
    "\n",
    "\n",
    "\n",
    "\n"
   ]
  },
  {
   "cell_type": "markdown",
   "metadata": {},
   "source": [
    "2) The probability of having defect (at least 1 defective product) in batch of 100 products is 63.2%. Find the probability of having less than 3 defective products in such a batch.\n",
    "\n",
    "<i>Hint:</i> use idea of Poisson distribution (https://en.wikipedia.org/wiki/Poisson_distribution)\n",
    "\n",
    "<b>Total:</b> 1.5 points"
   ]
  },
  {
   "cell_type": "markdown",
   "metadata": {},
   "source": [
    "X = defects from 100 products\n",
    "\n",
    "$\\lambda$ = n*p = 100 * 0.0099 = 0.99\n",
    "\n",
    "formula is $\\frac{\\lambda^{k}*e^{-\\lambda}}{k!}$\n",
    "\n",
    "P(X$\\leq 3$) = P(X=0) + P(X=1) + P(X=2)\n",
    "\n",
    "P(X=0) = $\\frac{0,99^0*e^{-0,99}}{0!}$ = 1 * 0,3715 = 0,3715\n",
    "\n",
    "P(X=1) = $\\frac{0,99^1*e^{-0,99}}{1!}$ = 0,99 * 0,3715 = 0,3677\n",
    "\n",
    "P(X=2) = $\\frac{0,99^2*e^{-0,99}}{2!}$ = $\\frac{0,9801 * 0,3715}{2}$  = 0,182\n",
    "\n",
    "P(X$\\leq 3$) = 0,3715 + 0,3677 + 0,182 = 0.92\n"
   ]
  },
  {
   "cell_type": "markdown",
   "metadata": {},
   "source": [
    "### Block №2. Data Structures and Algorithms\n",
    "\n",
    "<b><i>NB!</i></b> Here you need to provide solution having minimal memory and runtime complexity in terms of Big O notation."
   ]
  },
  {
   "cell_type": "markdown",
   "metadata": {},
   "source": [
    "3) Suggest an algorithm that resets all elements in the column <i>i</i> and the row <i>j</i> of the matrix M to zeros if the element in the <i>(i, j)</i> cell is zero. Provide solution having minimal memory and runtime complexity in terms of Big O notation.\n",
    "\n",
    "<b>Input:</b> matrix M\n",
    "\n",
    "<b>Output:</b> modified according to condition matrix M\n",
    "\n",
    "<b>Total:</b> 2 points"
   ]
  },
  {
   "cell_type": "code",
   "execution_count": 5,
   "metadata": {},
   "outputs": [],
   "source": [
    "# description of algo:\n",
    "#1) Use 2 additional arrays for input mat, fill in all  with 0 .\n",
    "#2) Traverse the input, if there is entry mat[i][j] as true, [i], [j] = true\n",
    "#3) Redo travers, For each entry mat[i][j], look for the values of [i], [j]\n",
    "# if anyis true, then mat[i][j] = true.\n",
    "\n",
    "\n",
    "\n",
    "def algo(mat): \n",
    "\n",
    "    row = [0] * R  \n",
    "    col = [0] * C  \n",
    "      \n",
    "  \n",
    "    for i in range(0, R): \n",
    "        row[i] = True\n",
    "    for i in range(0, C) : \n",
    "        col[i] = True\n",
    "  \n",
    "    \n",
    "    for i in range(0, R) : \n",
    "          \n",
    "        for j in range(0, C) : \n",
    "            if (mat[i][j] == 0) : \n",
    "                row[i] = 0\n",
    "                col[j] = 0\n",
    "              \n",
    "    \n",
    "    for i in range(0, R) : \n",
    "          \n",
    "        for j in range(0, C): \n",
    "            if ( row[i] == 0 or col[j] == 0 ) : \n",
    "                mat[i][j] = 0\n",
    "                    \n",
    "def printM(mat) : \n",
    "    for i in range(0, R): \n",
    "        for j in range(0, C) : \n",
    "            print(mat[i][j], end = \" \") \n",
    "        print() \n",
    "          \n",
    "# COMPLEXITY - O(R*C)\n",
    "# Memory - R+C\n",
    "# PS. I saw that there is more efficient algo for doing this but to be honest i didn't figuire\n",
    "# out how it works. "
   ]
  },
  {
   "cell_type": "code",
   "execution_count": 6,
   "metadata": {},
   "outputs": [
    {
     "name": "stdout",
     "output_type": "stream",
     "text": [
      "Input\n",
      "4 3 2 7 \n",
      "2 3 5 2 \n",
      "3 3 2 3 \n",
      "3 3 2 0 \n",
      "3 3 2 6 \n",
      "Output\n",
      "4 3 2 0 \n",
      "2 3 5 0 \n",
      "3 3 2 0 \n",
      "0 0 0 0 \n",
      "3 3 2 0 \n"
     ]
    }
   ],
   "source": [
    "#test algo\n",
    "mat =          ([ [4, 3, 2, 7], \n",
    "                 [2, 3, 5, 2], \n",
    "                 [3, 3, 2, 3],\n",
    "                 [3, 3, 2, 0],\n",
    "                 [3, 3, 2, 6]])\n",
    "\n",
    "# this is why my code didn't work for non-squared matrix\n",
    "R = len(mat)\n",
    "C = len(mat[0])\n",
    "\n",
    "  \n",
    "print(\"Input\") \n",
    "printM(mat) \n",
    "  \n",
    "algo(mat) \n",
    "  \n",
    "print(\"Output\") \n",
    "printM(mat) "
   ]
  },
  {
   "cell_type": "markdown",
   "metadata": {},
   "source": [
    "4) Imagine you have a square picture, each pixel of which can be black or white (you can interpret it as binary matrix). Develop an algorithm for finding the maximum sub-square consisting of only black pixels.\n",
    "\n",
    "<b>Input:</b> binary matrix M (contains only 0-1 elements)\n",
    "\n",
    "<b>Output:</b> <i>((a1, b1),(a2, b2))</i> where <i>(a1, b1)</i> and <i>(a2, b2)</i> stay for coordinates of upper-left and lower-right sub-square corners respectively\n",
    "\n",
    "<b>Total:</b> 2.5 points"
   ]
  },
  {
   "cell_type": "code",
   "execution_count": 7,
   "metadata": {},
   "outputs": [],
   "source": [
    "# Description:\n",
    "# Creating S[R][C] for input matrix, Copying first row and first columns from input,\n",
    "# for other entries, creating sub matrix with condition:\n",
    "# If Input matrix[i][j] is 1 then\n",
    "# new matrix [i][j] = min(S[i][j-1], S[i-1][j], S[i-1][j-1]) + 1\n",
    "# Else /*If M[i][j] is 0*/\n",
    "# S[i][j] = 0\n",
    "# then, finding the maximum entry in S[R][C] and printing its' coordinates\n",
    "\n",
    "\n",
    "def printMaxSubSquare(M): \n",
    "    R = len(M) \n",
    "    C = len(M[0]) \n",
    "  \n",
    "    S = [[0 for k in range(C)] for l in range(R)] \n",
    "  \n",
    "\n",
    "    for i in range(1, R): \n",
    "        for j in range(1, C): \n",
    "            if (M[i][j] == 1): \n",
    "                S[i][j] = min(S[i][j-1], S[i-1][j], \n",
    "                            S[i-1][j-1]) + 1\n",
    "                \n",
    "                b = [i+1, j+1] #2nd coordinate of maximum\n",
    "\n",
    "            else: \n",
    "                S[i][j] = 0\n",
    "                \n",
    "                \n",
    "    max_of_s = S[0][0] \n",
    "    max_i = 0\n",
    "    max_j = 0\n",
    "    for i in range(R): \n",
    "        for j in range(C): \n",
    "            if (max_of_s < S[i][j]): \n",
    "                max_of_s = S[i][j] \n",
    "                max_i = i \n",
    "                max_j = j \n",
    "   \n",
    "    for i in range(max_i, max_i - max_of_s, -1): \n",
    "        for j in range(max_j, max_j - max_of_s, -1): \n",
    "            a = [i+1, j+1] #1st coordinate of maximum matrix\n",
    "            \n",
    "    print(a)\n",
    "    print(b)\n",
    "             \n",
    "   \n",
    "\n",
    "        \n",
    "    \n",
    "  \n",
    " # Complexity - O(C*R)\n",
    " # Memory - C*R   "
   ]
  },
  {
   "cell_type": "code",
   "execution_count": 8,
   "metadata": {},
   "outputs": [
    {
     "name": "stdout",
     "output_type": "stream",
     "text": [
      "[4, 2]\n",
      "[6, 4]\n"
     ]
    }
   ],
   "source": [
    "M = [[1, 1, 0, 0], \n",
    "    [1, 1, 0, 0],\n",
    "    [0, 0, 0, 0], \n",
    "    [0, 1, 1, 1],\n",
    "    [0, 1, 1, 1],\n",
    "    [0, 1, 1, 1]] \n",
    "\n",
    "\n",
    "printMaxSubSquare(M)"
   ]
  },
  {
   "cell_type": "markdown",
   "metadata": {},
   "source": [
    "5) Imagine series of integer numbers having only 3, 5 or 7 of some power in their factorization (i.e. 1, 3, 5, 7, 9, 15 etc.). Given k you're asked to return k-th number in this series.\n",
    "\n",
    "<i>Helpful link</i>: https://en.wikipedia.org/wiki/Fundamental_theorem_of_arithmetic\n",
    "\n",
    "<b>Input:</b> integer number k\n",
    "\n",
    "<b>Output:</b> k-th number of series\n",
    "\n",
    "<b>Total:</b> 3 points"
   ]
  },
  {
   "cell_type": "code",
   "execution_count": 9,
   "metadata": {},
   "outputs": [],
   "source": [
    "def primefacs(n):\n",
    "    prime_factors = []\n",
    "    i=2\n",
    "    while n>1:\n",
    "        if n%i==0:\n",
    "            prime_factors.append(i)\n",
    "            n=n/i\n",
    "            i+=-1\n",
    "        i+=1\n",
    "    unique_facs = list(set(prime_factors))\n",
    "    return unique_facs"
   ]
  },
  {
   "cell_type": "code",
   "execution_count": 10,
   "metadata": {},
   "outputs": [],
   "source": [
    "def kposition(k):\n",
    "    a = 1\n",
    "    b = 1\n",
    "    while b < k:\n",
    "        a+=2 \n",
    "        if all(elem in [3,5,7] for elem in primefacs(a)) == True:\n",
    "            b +=1\n",
    "    return a"
   ]
  },
  {
   "cell_type": "code",
   "execution_count": 11,
   "metadata": {},
   "outputs": [
    {
     "data": {
      "text/plain": [
       "35"
      ]
     },
     "execution_count": 11,
     "metadata": {},
     "output_type": "execute_result"
    }
   ],
   "source": [
    "#test\n",
    "kposition(10)"
   ]
  }
 ],
 "metadata": {
  "kernelspec": {
   "display_name": "Python 3",
   "language": "python",
   "name": "python3"
  },
  "language_info": {
   "codemirror_mode": {
    "name": "ipython",
    "version": 3
   },
   "file_extension": ".py",
   "mimetype": "text/x-python",
   "name": "python",
   "nbconvert_exporter": "python",
   "pygments_lexer": "ipython3",
   "version": "3.6.5"
  }
 },
 "nbformat": 4,
 "nbformat_minor": 2
}
